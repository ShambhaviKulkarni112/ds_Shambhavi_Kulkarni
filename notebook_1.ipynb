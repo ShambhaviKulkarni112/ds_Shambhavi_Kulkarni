{
 "cells": [
  {
   "cell_type": "markdown",
   "id": "10711015",
   "metadata": {},
   "source": [
    "# Trader Behavior Insights\n",
    "**Candidate:** Shambhavi Kulkarni\n",
    "\n",
    "This notebook runs the full reproducible analysis for the assignment: loading data, cleaning, EDA, per-account analysis, and saving outputs in the required folder structure.\n"
   ]
  },
  {
   "cell_type": "code",
   "execution_count": null,
   "id": "b9668819",
   "metadata": {},
   "outputs": [],
   "source": [
    "# Imports & paths\n",
    "import pandas as pd\n",
    "import matplotlib.pyplot as plt\n",
    "import os\n",
    "from datetime import datetime\n",
    "\n",
    "root = '/content/drive/MyDrive/ds_Shambhavi_Kulkarni'  # Update this path when you mount your Drive in Colab\n",
    "os.makedirs('outputs', exist_ok=True)\n"
   ]
  },
  {
   "cell_type": "code",
   "execution_count": null,
   "id": "985d114d",
   "metadata": {},
   "outputs": [],
   "source": [
    "# Load datasets (upload to Colab or mount Drive)\n",
    "trader = pd.read_csv('/content/e5b9901b-8d54-4472-acce-bf7d8e145269.csv')  # replace with your path in Colab\n",
    "sent = pd.read_csv('/content/13525650-aed5-43f4-963c-809a157f394b.csv')  # replace with your path in Colab\n",
    "trader.head()"
   ]
  },
  {
   "cell_type": "code",
   "execution_count": null,
   "id": "4da16f92",
   "metadata": {},
   "outputs": [],
   "source": [
    "# Preprocessing\n",
    "trader['Timestamp IST'] = pd.to_datetime(trader['Timestamp IST'], format='%d-%m-%Y %H:%M', errors='coerce')\n",
    "trader['Date'] = trader['Timestamp IST'].dt.date\n",
    "sent['date'] = pd.to_datetime(sent['date'], format='%Y-%m-%d', errors='coerce')\n",
    "sent['Date'] = sent['date'].dt.date\n",
    "\n",
    "daily = trader.groupby('Date').agg({\n",
    "    'Closed PnL': 'sum',\n",
    "    'Size USD': 'sum',\n",
    "    'Execution Price': 'mean'\n",
    "}).reset_index()\n",
    "\n",
    "merged = pd.merge(daily, sent[['Date','classification','value']], on='Date', how='inner')\n",
    "merged.head()"
   ]
  },
  {
   "cell_type": "code",
   "execution_count": null,
   "id": "2b0bdf83",
   "metadata": {},
   "outputs": [],
   "source": [
    "# Quick EDA plots (matplotlib)\n",
    "import matplotlib.pyplot as plt\n",
    "plt.figure(figsize=(8,4))\n",
    "merged.boxplot(column='Closed PnL', by='classification', grid=False)\n",
    "plt.title('Closed PnL by Sentiment')\n",
    "plt.suptitle('')\n",
    "plt.savefig('outputs/boxplot_pnl_by_sentiment.png', bbox_inches='tight')\n",
    "plt.show()"
   ]
  },
  {
   "cell_type": "code",
   "execution_count": null,
   "id": "6263e61b",
   "metadata": {},
   "outputs": [],
   "source": [
    "# Per-account summary\n",
    "acct = trader.groupby('Account').agg({\n",
    "    'Closed PnL': 'sum',\n",
    "    'Size USD': 'sum',\n",
    "    'Execution Price': 'mean',\n",
    "    'Timestamp IST': 'count'\n",
    "}).rename(columns={'Timestamp IST':'Trade Count'}).reset_index()\n",
    "acct.sort_values('Closed PnL', ascending=False).head(20).to_csv('csv_files/top_20_accounts_by_pnl.csv', index=False)\n",
    "acct.head()"
   ]
  },
  {
   "cell_type": "markdown",
   "id": "873b1fcd",
   "metadata": {},
   "source": [
    "## Next steps\n",
    "- Replace placeholder paths with your Colab Drive paths.\n",
    "- Run all cells and upload the notebook to Google Colab.\n",
    "- Ensure `ds_<your_name>` folder is uploaded to your Drive and link is shared with view access."
   ]
  }
 ],
 "metadata": {},
 "nbformat": 4,
 "nbformat_minor": 5
}
